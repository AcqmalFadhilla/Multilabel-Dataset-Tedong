{
 "cells": [
  {
   "cell_type": "markdown",
   "metadata": {},
   "source": [
    "## Multilabel with Segmentation U-Net, FCN & Mask RCNN"
   ]
  },
  {
   "cell_type": "code",
   "execution_count": null,
   "metadata": {},
   "outputs": [],
   "source": [
    "import tensorflow as tf\n",
    "import cv2\n",
    "import matplotlib.pyplot as plt\n",
    "import numpy as np"
   ]
  },
  {
   "cell_type": "markdown",
   "metadata": {},
   "source": [
    "# Prepare Dataset"
   ]
  },
  {
   "cell_type": "markdown",
   "metadata": {},
   "source": [
    "# U-Net"
   ]
  },
  {
   "cell_type": "markdown",
   "metadata": {},
   "source": [
    "Berikut arsitektur keseluruhan U-Net yang akan digunakan:\n",
    "\n",
    "<img src='https://drive.google.com/uc?export=view&id=1BeQSKL2Eq6Fw9iRXsN1hgunY-CS2nH7V' alt='unet'>\n",
    "\n",
    "UNet terdiri dari encoder (downsampler) dan decoder (upsampler) dengan hambatan di antaranya. Panah abu-abu sesuai dengan koneksi lompatan yang menggabungkan output blok encoder ke setiap tahap decoder."
   ]
  },
  {
   "cell_type": "markdown",
   "metadata": {},
   "source": [
    "### Encoder\n",
    "Block-block encoder berisi 2 layer Conv2D diakttifkan oleh relu, serta di ikuti oleh MaxpPooling dan Dropout"
   ]
  },
  {
   "cell_type": "code",
   "execution_count": null,
   "metadata": {},
   "outputs": [],
   "source": [
    "def conv2d_block(input_tensor, n_filter, kernel_size=3):\n",
    "    ''' \n",
    "    Arg:\n",
    "    input_tensor (tensor) - tensor masukan\n",
    "    n_filter (int) - jumlah filter\n",
    "    kernel_size (int) -- ukuran kernel untuk konvolusi\n",
    "\n",
    "    return\n",
    "    tensor dari fitur keluaran\n",
    "    '''\n",
    "    x = input_tensor\n",
    "    for i in range(2):\n",
    "        x = tf.keras.layers.Conv2D(filters=n_filter, kernel_size=(kernel_size, kernel_size), kernel_initializer=\"he_normal\",padding='same')(x)\n",
    "        x = tf.keras.layers.Activation(\"relu\")(x)\n",
    "    return x\n",
    "\n",
    "def encoder_block(inputs, n_filter, pool_size=2, dropout=0.3):\n",
    "    '''\n",
    "    Arg:\n",
    "    input (tensor) - tensor masukan\n",
    "    n_filter (int) - jumlah filter\n",
    "    pool_size - ukuran pool size\n",
    "    dropout - jumlah yang ingin di dropout/buang\n",
    "\n",
    "    return\n",
    "    f - fitur keluaran dari block conv\n",
    "    p - fitur yang dikumpulkan di MaxPooling dengan DropOut\n",
    "    '''\n",
    "    f = conv2d_block(inputs, n_filter)\n",
    "    p = tf.keras.layers.MaxPooling2D((pool_size, pool_size))(f)\n",
    "    p = tf.keras.layers.Dropout(dropout)(p)\n",
    "    return f, p\n",
    "\n",
    "def encoder(inputs):\n",
    "    '''\n",
    "    Arg:\n",
    "    inputs - masukkan gambar\n",
    "\n",
    "    return\n",
    "    p4 - fitur yang dikumpulkan dari keseluruhan encoder block\n",
    "    (f1, f2, f3, f4) - fitur yang dikeluarkan dari semua encoder block\n",
    "    '''\n",
    "    f1, p1 = encoder_block(inputs, n_filter=64)\n",
    "    f2, p2 = encoder_block(p1, n_filter=128)\n",
    "    f3, p3 = encoder_block(p2, n_filter=256)\n",
    "    f4, p4 = encoder_block(p3, n_filter=512)\n",
    "    return p4, (f1, f2, f3, f4)\n"
   ]
  },
  {
   "cell_type": "markdown",
   "metadata": {},
   "source": [
    "### Bottleneck\n",
    "Sebuah bottleneck mengikuti blok encoder dan digunakan untuk mengekstrak lebih banyak fitur. Ini tidak memiliki lapisan penyatuan sehingga dimensinya tetap sama."
   ]
  },
  {
   "cell_type": "code",
   "execution_count": null,
   "metadata": {},
   "outputs": [],
   "source": [
    "def bottleneck(inputs):\n",
    "\n",
    "    x = conv2d_block(input_tensor=inputs, n_filter=1024)\n",
    "    return x"
   ]
  },
  {
   "cell_type": "markdown",
   "metadata": {},
   "source": [
    "### Decoder\n",
    " decoder yang meng-upsampling fitur kembali ke ukuran gambar asli. Pada setiap tingkat upsampling, akan mengambil output dari blok encoder yang sesuai dan menggabungkannya sebelum memasukkannya ke blok decoder berikutnya"
   ]
  },
  {
   "cell_type": "code",
   "execution_count": null,
   "metadata": {},
   "outputs": [],
   "source": [
    "def decoder_block(inputs, conv_output, n_filter=64, kernel_size=3, strides=2, dropout=0.3):\n",
    "    '''\n",
    "    Arg:\n",
    "    inputs (tensor) - kumpulan fitur input\n",
    "    conv_output (tensor) - fitur dari blok encoder\n",
    "    n_filter (int) -- jumlah filter\n",
    "    kernel_size (int) -- ukuran kernel\n",
    "    strides (int) -- langkah untuk dekonvolusi/upsampling\n",
    "    padding (string) - \"sama\" atau \"valid\", memberi tahu apakah bentuk akan dipertahankan dengan padding nol\n",
    "\n",
    "    return\n",
    "    c (tensor) - fitur keluaran dari blok decoder\n",
    "    '''\n",
    "    u = tf.keras.layers.Conv2DTranspose(filters=n_filter, kernel_size=kernel_size, strides=strides, spadding='same')(inputs)\n",
    "    c = tf.keras.layers.Concatenate([u, conv_output])\n",
    "    c = tf.keras.layers.Dropout(dropout)(c)\n",
    "    c = conv2d_block(c, n_filter=n_filter)\n",
    "\n",
    "    return c\n",
    "\n",
    "def decoder(inputs, convs, output_channels, activation):\n",
    "    '''\n",
    "    Arg:\n",
    "    inputs (tensor) - kumpulan fitur input\n",
    "    convs (tuple) -- fitur dari blok penyandi\n",
    "    output_channels (int) -- jumlah kelas dalam peta label\n",
    "    activation (softmax/sigmoid,etc) - aktifasi yang dipakai\n",
    "\n",
    "    return\n",
    "    output (tensor) -- peta label berdasarkan piksel dari gambar\n",
    "    '''\n",
    "    f1, f2, f3, f4 = convs\n",
    "\n",
    "    c1 = decoder_block(inputs=inputs, conv_output=f4, n_filter=512)\n",
    "    c2 = decoder_block(inputs=c1, conv_output=f3, n_filter=256)\n",
    "    c3 = decoder_block(inputs=c2, conv_output=f2, n_filter=128)\n",
    "    c4 = decoder_block(inputs=c3, conv_output=f1, n_filter=64)\n",
    "\n",
    "    output =  tf.keras.layers.Conv2D(output_channels, (1, 1), activation=activation)(c4)\n",
    "    return output"
   ]
  },
  {
   "cell_type": "code",
   "execution_count": null,
   "metadata": {},
   "outputs": [],
   "source": [
    "def unet(input_shape, output, activation):\n",
    "    '''\n",
    "    Mendefinisikan UNet dengan menghubungkan encoder, bottleneck, dan decoder.\n",
    "\n",
    "    args:\n",
    "    input_shape (int)- besaran deminsi input\n",
    "    output (int) - jumlah output yang dikeluarkna\n",
    "    activation - aktifasi yang digunakan untuk klasifikasi\n",
    "    '''\n",
    "\n",
    "    input = tf.keras.layers.Input(shape=input_shape)\n",
    "    encoder_output, convs = encoder(input)\n",
    "    bottleneck = bottleneck(encoder_output)\n",
    "    outputs = decoder(bottleneck, convs=convs, output_channels=output, activation=activation)\n",
    "\n",
    "    model = tf.keras.Model(inputs=input, outputs=outputs)\n",
    "    return model"
   ]
  },
  {
   "cell_type": "code",
   "execution_count": null,
   "metadata": {},
   "outputs": [],
   "source": []
  }
 ],
 "metadata": {
  "language_info": {
   "name": "python"
  }
 },
 "nbformat": 4,
 "nbformat_minor": 2
}
