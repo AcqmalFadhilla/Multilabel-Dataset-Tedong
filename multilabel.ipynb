{
 "cells": [
  {
   "cell_type": "markdown",
   "metadata": {},
   "source": [
    "## Multilabel with Segmentation U-Net, FCN & Mask RCNN"
   ]
  },
  {
   "cell_type": "code",
   "execution_count": 1,
   "metadata": {},
   "outputs": [],
   "source": [
    "import tensorflow as tf\n",
    "import cv2\n",
    "import matplotlib.pyplot as plt\n",
    "import numpy as np\n",
    "import pandas as pd\n",
    "import os\n",
    "import os.path\n",
    "\n",
    "from pathlib import Path\n",
    "from sklearn.model_selection import train_test_split\n",
    "from PIL import Image\n",
    "from tensorflow.keras.preprocessing.image import ImageDataGenerator"
   ]
  },
  {
   "cell_type": "markdown",
   "metadata": {},
   "source": [
    "# Prepare Dataset"
   ]
  },
  {
   "cell_type": "code",
   "execution_count": 2,
   "metadata": {},
   "outputs": [
    {
     "data": {
      "text/html": [
       "<div>\n",
       "<style scoped>\n",
       "    .dataframe tbody tr th:only-of-type {\n",
       "        vertical-align: middle;\n",
       "    }\n",
       "\n",
       "    .dataframe tbody tr th {\n",
       "        vertical-align: top;\n",
       "    }\n",
       "\n",
       "    .dataframe thead th {\n",
       "        text-align: right;\n",
       "    }\n",
       "</style>\n",
       "<table border=\"1\" class=\"dataframe\">\n",
       "  <thead>\n",
       "    <tr style=\"text-align: right;\">\n",
       "      <th></th>\n",
       "      <th>Filename</th>\n",
       "      <th>Label</th>\n",
       "    </tr>\n",
       "  </thead>\n",
       "  <tbody>\n",
       "    <tr>\n",
       "      <th>0</th>\n",
       "      <td>image_1.jpg</td>\n",
       "      <td>[Kerbau,Manusia]</td>\n",
       "    </tr>\n",
       "    <tr>\n",
       "      <th>1</th>\n",
       "      <td>image_10.jpg</td>\n",
       "      <td>[Kerbau,Manusia]</td>\n",
       "    </tr>\n",
       "    <tr>\n",
       "      <th>2</th>\n",
       "      <td>image_100.jpg</td>\n",
       "      <td>[Kerbau]</td>\n",
       "    </tr>\n",
       "    <tr>\n",
       "      <th>3</th>\n",
       "      <td>image_101.jpg</td>\n",
       "      <td>[Kerbau,Manusia]</td>\n",
       "    </tr>\n",
       "    <tr>\n",
       "      <th>4</th>\n",
       "      <td>image_102.jpg</td>\n",
       "      <td>[Kerbau,Manusia]</td>\n",
       "    </tr>\n",
       "    <tr>\n",
       "      <th>...</th>\n",
       "      <td>...</td>\n",
       "      <td>...</td>\n",
       "    </tr>\n",
       "    <tr>\n",
       "      <th>2110</th>\n",
       "      <td>image_1999.jpg</td>\n",
       "      <td>[Kerbau,Manusia,Truk]</td>\n",
       "    </tr>\n",
       "    <tr>\n",
       "      <th>2111</th>\n",
       "      <td>image_2.jpg</td>\n",
       "      <td>[Kerbau,Manusia]</td>\n",
       "    </tr>\n",
       "    <tr>\n",
       "      <th>2112</th>\n",
       "      <td>image_20.jpg</td>\n",
       "      <td>[Kerbau,Manusia]</td>\n",
       "    </tr>\n",
       "    <tr>\n",
       "      <th>2113</th>\n",
       "      <td>image_200.jpg</td>\n",
       "      <td>[Kerbau]</td>\n",
       "    </tr>\n",
       "    <tr>\n",
       "      <th>2114</th>\n",
       "      <td>image_2000.jpg</td>\n",
       "      <td>[Kerbau]</td>\n",
       "    </tr>\n",
       "  </tbody>\n",
       "</table>\n",
       "<p>2115 rows × 2 columns</p>\n",
       "</div>"
      ],
      "text/plain": [
       "            Filename                  Label\n",
       "0        image_1.jpg       [Kerbau,Manusia]\n",
       "1       image_10.jpg       [Kerbau,Manusia]\n",
       "2      image_100.jpg               [Kerbau]\n",
       "3      image_101.jpg       [Kerbau,Manusia]\n",
       "4      image_102.jpg       [Kerbau,Manusia]\n",
       "...              ...                    ...\n",
       "2110  image_1999.jpg  [Kerbau,Manusia,Truk]\n",
       "2111     image_2.jpg       [Kerbau,Manusia]\n",
       "2112    image_20.jpg       [Kerbau,Manusia]\n",
       "2113   image_200.jpg               [Kerbau]\n",
       "2114  image_2000.jpg               [Kerbau]\n",
       "\n",
       "[2115 rows x 2 columns]"
      ]
     },
     "execution_count": 2,
     "metadata": {},
     "output_type": "execute_result"
    }
   ],
   "source": [
    "df = pd.read_csv('data/label.csv')\n",
    "df"
   ]
  },
  {
   "cell_type": "code",
   "execution_count": 3,
   "metadata": {},
   "outputs": [
    {
     "data": {
      "text/plain": [
       "Filename    0\n",
       "Label       0\n",
       "dtype: int64"
      ]
     },
     "execution_count": 3,
     "metadata": {},
     "output_type": "execute_result"
    }
   ],
   "source": [
    "df.isna().sum()"
   ]
  },
  {
   "cell_type": "code",
   "execution_count": 4,
   "metadata": {},
   "outputs": [],
   "source": [
    "df['Filename'] = \"image/\" + df[\"Filename\"]"
   ]
  },
  {
   "cell_type": "code",
   "execution_count": 5,
   "metadata": {},
   "outputs": [
    {
     "data": {
      "text/plain": [
       "Filename    0\n",
       "Label       0\n",
       "dtype: int64"
      ]
     },
     "execution_count": 5,
     "metadata": {},
     "output_type": "execute_result"
    }
   ],
   "source": [
    "df.isna().sum()"
   ]
  },
  {
   "cell_type": "code",
   "execution_count": 6,
   "metadata": {},
   "outputs": [
    {
     "data": {
      "text/plain": [
       "<Axes: xlabel='Label'>"
      ]
     },
     "execution_count": 6,
     "metadata": {},
     "output_type": "execute_result"
    },
    {
     "data": {
      "image/png": "[encoded data removed]",
      "text/plain": [
       "<Figure size 640x480 with 1 Axes>"
      ]
     },
     "metadata": {},
     "output_type": "display_data"
    }
   ],
   "source": [
    "df['Label'].value_counts().plot(kind='bar')"
   ]
  },
  {
   "cell_type": "code",
   "execution_count": 7,
   "metadata": {},
   "outputs": [],
   "source": [
    "def vis_img(dir):\n",
    "    '''\n",
    "    dir - path direktori image \n",
    "    '''\n",
    "    img =  np.asarray(Image.open(dir))\n",
    "    plt.axis(False)\n",
    "    plt.imshow(img)"
   ]
  },
  {
   "cell_type": "code",
   "execution_count": 8,
   "metadata": {},
   "outputs": [
    {
     "ename": "FileNotFoundError",
     "evalue": "[Errno 2] No such file or directory: 'image/image_10.jpg'",
     "output_type": "error",
     "traceback": [
      "\u001b[0;31m---------------------------------------------------------------------------\u001b[0m",
      "\u001b[0;31mFileNotFoundError\u001b[0m                         Traceback (most recent call last)",
      "\u001b[1;32m/Users/acqmallatief/Project/Pak Eman/artikel/multilabel.ipynb Cell 10\u001b[0m line \u001b[0;36m1\n\u001b[0;32m----> <a href='vscode-notebook-cell:/Users/acqmallatief/Project/Pak%20Eman/artikel/multilabel.ipynb#X50sZmlsZQ%3D%3D?line=0'>1</a>\u001b[0m vis_img(df[\u001b[39m\"\u001b[39;49m\u001b[39mFilename\u001b[39;49m\u001b[39m\"\u001b[39;49m][\u001b[39m1\u001b[39;49m])\n",
      "\u001b[1;32m/Users/acqmallatief/Project/Pak Eman/artikel/multilabel.ipynb Cell 10\u001b[0m line \u001b[0;36m5\n\u001b[1;32m      <a href='vscode-notebook-cell:/Users/acqmallatief/Project/Pak%20Eman/artikel/multilabel.ipynb#X50sZmlsZQ%3D%3D?line=0'>1</a>\u001b[0m \u001b[39mdef\u001b[39;00m \u001b[39mvis_img\u001b[39m(\u001b[39mdir\u001b[39m):\n\u001b[1;32m      <a href='vscode-notebook-cell:/Users/acqmallatief/Project/Pak%20Eman/artikel/multilabel.ipynb#X50sZmlsZQ%3D%3D?line=1'>2</a>\u001b[0m \u001b[39m    \u001b[39m\u001b[39m'''\u001b[39;00m\n\u001b[1;32m      <a href='vscode-notebook-cell:/Users/acqmallatief/Project/Pak%20Eman/artikel/multilabel.ipynb#X50sZmlsZQ%3D%3D?line=2'>3</a>\u001b[0m \u001b[39m    dir - path direktori image \u001b[39;00m\n\u001b[1;32m      <a href='vscode-notebook-cell:/Users/acqmallatief/Project/Pak%20Eman/artikel/multilabel.ipynb#X50sZmlsZQ%3D%3D?line=3'>4</a>\u001b[0m \u001b[39m    '''\u001b[39;00m\n\u001b[0;32m----> <a href='vscode-notebook-cell:/Users/acqmallatief/Project/Pak%20Eman/artikel/multilabel.ipynb#X50sZmlsZQ%3D%3D?line=4'>5</a>\u001b[0m     img \u001b[39m=\u001b[39m  np\u001b[39m.\u001b[39masarray(Image\u001b[39m.\u001b[39;49mopen(\u001b[39mdir\u001b[39;49m))\n\u001b[1;32m      <a href='vscode-notebook-cell:/Users/acqmallatief/Project/Pak%20Eman/artikel/multilabel.ipynb#X50sZmlsZQ%3D%3D?line=5'>6</a>\u001b[0m     plt\u001b[39m.\u001b[39maxis(\u001b[39mFalse\u001b[39;00m)\n\u001b[1;32m      <a href='vscode-notebook-cell:/Users/acqmallatief/Project/Pak%20Eman/artikel/multilabel.ipynb#X50sZmlsZQ%3D%3D?line=6'>7</a>\u001b[0m     plt\u001b[39m.\u001b[39mimshow(img)\n",
      "File \u001b[0;32m~/opt/anaconda3/envs/myenv/lib/python3.10/site-packages/PIL/Image.py:3236\u001b[0m, in \u001b[0;36mopen\u001b[0;34m(fp, mode, formats)\u001b[0m\n\u001b[1;32m   3233\u001b[0m     filename \u001b[39m=\u001b[39m fp\n\u001b[1;32m   3235\u001b[0m \u001b[39mif\u001b[39;00m filename:\n\u001b[0;32m-> 3236\u001b[0m     fp \u001b[39m=\u001b[39m builtins\u001b[39m.\u001b[39;49mopen(filename, \u001b[39m\"\u001b[39;49m\u001b[39mrb\u001b[39;49m\u001b[39m\"\u001b[39;49m)\n\u001b[1;32m   3237\u001b[0m     exclusive_fp \u001b[39m=\u001b[39m \u001b[39mTrue\u001b[39;00m\n\u001b[1;32m   3239\u001b[0m \u001b[39mtry\u001b[39;00m:\n",
      "\u001b[0;31mFileNotFoundError\u001b[0m: [Errno 2] No such file or directory: 'image/image_10.jpg'"
     ]
    }
   ],
   "source": [
    "vis_img(df[\"Filename\"][1])"
   ]
  },
  {
   "cell_type": "code",
   "execution_count": null,
   "metadata": {},
   "outputs": [],
   "source": [
    "train, test = train_test_split(df, test_size=0.2, random_state=42)"
   ]
  },
  {
   "cell_type": "code",
   "execution_count": null,
   "metadata": {},
   "outputs": [
    {
     "data": {
      "text/plain": [
       "Filename    0\n",
       "Label       0\n",
       "dtype: int64"
      ]
     },
     "execution_count": 12,
     "metadata": {},
     "output_type": "execute_result"
    }
   ],
   "source": [
    "train.isna().sum()"
   ]
  },
  {
   "cell_type": "code",
   "execution_count": null,
   "metadata": {},
   "outputs": [
    {
     "name": "stdout",
     "output_type": "stream",
     "text": [
      "Found 0 validated image filenames belonging to 5 classes.\n",
      "Found 0 validated image filenames belonging to 5 classes.\n"
     ]
    }
   ],
   "source": [
    "datagen = ImageDataGenerator(rescale=1./255.0)\n",
    "test_datagen = ImageDataGenerator(rescale=1./255.0)\n",
    "\n",
    "train_gen = datagen.flow_from_dataframe(\n",
    "    train,\n",
    "    x_col ='Filename',\n",
    "    y_col ='Label',\n",
    "    batch_size = 32,\n",
    "    seed = 42,\n",
    "    shuffle = True,\n",
    "    class_mode = \"categorical\",\n",
    "    classes = ['Kerbau', 'Manusia', 'Hewan liar', 'Motor', \"Truk\"],\n",
    "    target_size = (448, 448)\n",
    ")\n",
    "\n",
    "test_gen = test_datagen.flow_from_dataframe(\n",
    "    test,\n",
    "    x_col ='Filename',\n",
    "    y_col ='Label',\n",
    "    batch_size = 1,\n",
    "    # seed = 42,\n",
    "    # shuffle = True,\n",
    "    class_mode = \"categorical\",\n",
    "    classes = ['Kerbau', 'Manusia', 'Hewan liar', 'Motor', \"Truk\"],\n",
    "    target_size = (448, 448)\n",
    ")"
   ]
  },
  {
   "cell_type": "code",
   "execution_count": null,
   "metadata": {},
   "outputs": [
    {
     "data": {
      "text/plain": [
       "[]"
      ]
     },
     "execution_count": 11,
     "metadata": {},
     "output_type": "execute_result"
    }
   ],
   "source": [
    "filename = train_gen.filenames\n",
    "filename"
   ]
  },
  {
   "cell_type": "markdown",
   "metadata": {},
   "source": [
    "# U-Net"
   ]
  },
  {
   "cell_type": "markdown",
   "metadata": {},
   "source": [
    "Berikut arsitektur keseluruhan U-Net yang akan digunakan:\n",
    "\n",
    "<img src='https://drive.google.com/uc?export=view&id=1BeQSKL2Eq6Fw9iRXsN1hgunY-CS2nH7V' alt='unet'>\n",
    "\n",
    "UNet terdiri dari encoder (downsampler) dan decoder (upsampler) dengan hambatan di antaranya. Panah abu-abu sesuai dengan koneksi lompatan yang menggabungkan output blok encoder ke setiap tahap decoder."
   ]
  },
  {
   "cell_type": "markdown",
   "metadata": {},
   "source": [
    "### Encoder\n",
    "Block-block encoder berisi 2 layer Conv2D diakttifkan oleh relu, serta di ikuti oleh MaxpPooling dan Dropout"
   ]
  },
  {
   "cell_type": "code",
   "execution_count": null,
   "metadata": {},
   "outputs": [],
   "source": [
    "def conv2d_block(input_tensor, n_filter, kernel_size=3):\n",
    "    ''' \n",
    "    Arg:\n",
    "    input_tensor (tensor) - tensor masukan\n",
    "    n_filter (int) - jumlah filter\n",
    "    kernel_size (int) -- ukuran kernel untuk konvolusi\n",
    "\n",
    "    return\n",
    "    tensor dari fitur keluaran\n",
    "    '''\n",
    "    x = input_tensor\n",
    "    for i in range(2):\n",
    "        x = tf.keras.layers.Conv2D(filters=n_filter, kernel_size=(kernel_size, kernel_size), kernel_initializer=\"he_normal\",padding='same')(x)\n",
    "        x = tf.keras.layers.Activation(\"relu\")(x)\n",
    "    return x\n",
    "\n",
    "def encoder_block(inputs, n_filter, pool_size=2, dropout=0.3):\n",
    "    '''\n",
    "    Arg:\n",
    "    input (tensor) - tensor masukan\n",
    "    n_filter (int) - jumlah filter\n",
    "    pool_size - ukuran pool size\n",
    "    dropout - jumlah yang ingin di dropout/buang\n",
    "\n",
    "    return\n",
    "    f - fitur keluaran dari block conv\n",
    "    p - fitur yang dikumpulkan di MaxPooling dengan DropOut\n",
    "    '''\n",
    "    f = conv2d_block(inputs, n_filter)\n",
    "    p = tf.keras.layers.MaxPooling2D((pool_size, pool_size))(f)\n",
    "    p = tf.keras.layers.Dropout(dropout)(p)\n",
    "    return f, p\n",
    "\n",
    "def encoder(inputs):\n",
    "    '''\n",
    "    Arg:\n",
    "    inputs - masukkan gambar\n",
    "\n",
    "    return\n",
    "    p4 - fitur yang dikumpulkan dari keseluruhan encoder block\n",
    "    (f1, f2, f3, f4) - fitur yang dikeluarkan dari semua encoder block\n",
    "    '''\n",
    "    f1, p1 = encoder_block(inputs, n_filter=64)\n",
    "    f2, p2 = encoder_block(p1, n_filter=128)\n",
    "    f3, p3 = encoder_block(p2, n_filter=256)\n",
    "    f4, p4 = encoder_block(p3, n_filter=512)\n",
    "    return p4, (f1, f2, f3, f4)\n"
   ]
  },
  {
   "cell_type": "markdown",
   "metadata": {},
   "source": [
    "### Bottleneck\n",
    "Sebuah bottleneck mengikuti blok encoder dan digunakan untuk mengekstrak lebih banyak fitur. Ini tidak memiliki lapisan penyatuan sehingga dimensinya tetap sama."
   ]
  },
  {
   "cell_type": "code",
   "execution_count": null,
   "metadata": {},
   "outputs": [],
   "source": [
    "def bottleneck(inputs):\n",
    "\n",
    "    x = conv2d_block(input_tensor=inputs, n_filter=1024)\n",
    "    return x"
   ]
  },
  {
   "cell_type": "markdown",
   "metadata": {},
   "source": [
    "### Decoder\n",
    " decoder yang meng-upsampling fitur kembali ke ukuran gambar asli. Pada setiap tingkat upsampling, akan mengambil output dari blok encoder yang sesuai dan menggabungkannya sebelum memasukkannya ke blok decoder berikutnya"
   ]
  },
  {
   "cell_type": "code",
   "execution_count": null,
   "metadata": {},
   "outputs": [],
   "source": [
    "def decoder_block(inputs, conv_output, n_filter=64, kernel_size=3, strides=2, dropout=0.3):\n",
    "    '''\n",
    "    Arg:\n",
    "    inputs (tensor) - kumpulan fitur input\n",
    "    conv_output (tensor) - fitur dari blok encoder\n",
    "    n_filter (int) -- jumlah filter\n",
    "    kernel_size (int) -- ukuran kernel\n",
    "    strides (int) -- langkah untuk dekonvolusi/upsampling\n",
    "    padding (string) - \"sama\" atau \"valid\", memberi tahu apakah bentuk akan dipertahankan dengan padding nol\n",
    "\n",
    "    return\n",
    "    c (tensor) - fitur keluaran dari blok decoder\n",
    "    '''\n",
    "    u = tf.keras.layers.Conv2DTranspose(filters=n_filter, kernel_size=kernel_size, strides=strides, spadding='same')(inputs)\n",
    "    c = tf.keras.layers.Concatenate([u, conv_output])\n",
    "    c = tf.keras.layers.Dropout(dropout)(c)\n",
    "    c = conv2d_block(c, n_filter=n_filter)\n",
    "\n",
    "    return c\n",
    "\n",
    "def decoder(inputs, convs, output_channels, activation):\n",
    "    '''\n",
    "    Arg:\n",
    "    inputs (tensor) - kumpulan fitur input\n",
    "    convs (tuple) -- fitur dari blok penyandi\n",
    "    output_channels (int) -- jumlah kelas dalam peta label\n",
    "    activation (softmax/sigmoid,etc) - aktifasi yang dipakai\n",
    "\n",
    "    return\n",
    "    output (tensor) -- peta label berdasarkan piksel dari gambar\n",
    "    '''\n",
    "    f1, f2, f3, f4 = convs\n",
    "\n",
    "    c1 = decoder_block(inputs=inputs, conv_output=f4, n_filter=512)\n",
    "    c2 = decoder_block(inputs=c1, conv_output=f3, n_filter=256)\n",
    "    c3 = decoder_block(inputs=c2, conv_output=f2, n_filter=128)\n",
    "    c4 = decoder_block(inputs=c3, conv_output=f1, n_filter=64)\n",
    "\n",
    "    output =  tf.keras.layers.Conv2D(output_channels, (1, 1), activation=activation)(c4)\n",
    "    return output"
   ]
  },
  {
   "cell_type": "code",
   "execution_count": null,
   "metadata": {},
   "outputs": [],
   "source": [
    "def unet(input_shape, output, activation):\n",
    "    '''\n",
    "    Mendefinisikan UNet dengan menghubungkan encoder, bottleneck, dan decoder.\n",
    "\n",
    "    args:\n",
    "    input_shape (int)- besaran deminsi input\n",
    "    output (int) - jumlah output yang dikeluarkna\n",
    "    activation - aktifasi yang digunakan untuk klasifikasi\n",
    "    '''\n",
    "\n",
    "    input = tf.keras.layers.Input(shape=input_shape)\n",
    "    encoder_output, convs = encoder(input)\n",
    "    bottleneck = bottleneck(encoder_output)\n",
    "    outputs = decoder(bottleneck, convs=convs, output_channels=output, activation=activation)\n",
    "\n",
    "    model = tf.keras.Model(inputs=input, outputs=outputs)\n",
    "    return model"
   ]
  },
  {
   "cell_type": "code",
   "execution_count": null,
   "metadata": {},
   "outputs": [],
   "source": []
  }
 ],
 "metadata": {
  "kernelspec": {
   "display_name": "myenv",
   "language": "python",
   "name": "python3"
  },
  "language_info": {
   "codemirror_mode": {
    "name": "ipython",
    "version": 3
   },
   "file_extension": ".py",
   "mimetype": "text/x-python",
   "name": "python",
   "nbconvert_exporter": "python",
   "pygments_lexer": "ipython3",
   "version": "3.10.11"
  }
 },
 "nbformat": 4,
 "nbformat_minor": 2
}
